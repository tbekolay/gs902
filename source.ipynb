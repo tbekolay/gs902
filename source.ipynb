{
 "cells": [
  {
   "cell_type": "markdown",
   "metadata": {
    "slideshow": {
     "slide_type": "slide"
    }
   },
   "source": [
    "## What MOOCs can teach us<br>about teaching\n",
    "\n",
    "### GS902 Research Project\n",
    "\n",
    "### Trevor Bekolay"
   ]
  },
  {
   "cell_type": "markdown",
   "metadata": {
    "slideshow": {
     "slide_type": "notes"
    }
   },
   "source": [
    "Hello, my name is Trevor. I'm a PhD candidate in Computer Science,\n",
    "and today I want to talk about Massive Open Online Courses, or MOOCs.\n",
    "Specifically, I want to try to convince you that,\n",
    "whatever you think about how useful or transformative MOOCs are,\n",
    "they are undenaibly an amazing resource for advancing education research,\n",
    "because they provide a platform through which we can do\n",
    "empirical research about different teaching interventions."
   ]
  },
  {
   "cell_type": "markdown",
   "metadata": {
    "slideshow": {
     "slide_type": "slide"
    }
   },
   "source": [
    "# What is a MOOC?\n",
    "\n",
    "<h3 class=\"fragment\">Platforms: <a href=\"https://courses.edx.org/dashboard\">edX</a>, Coursera, Udacity</h3>"
   ]
  },
  {
   "cell_type": "markdown",
   "metadata": {
    "slideshow": {
     "slide_type": "notes"
    }
   },
   "source": [
    "First, I want to make sure we're all on the same page\n",
    "about what a MOOC is.\n",
    "So, let me ask you, by a show of hands,\n",
    "how many people here have heard of MOOCs?\n",
    "How many people know about at least\n",
    "one of these MOOC platforms?\n",
    "How many people have actually taken\n",
    "a course through one of these platforms?\n",
    "\n",
    "*If not many have then...*\n",
    "Okay, so to give you a very brief introduction,\n",
    "a Massive Open Online Course is a university-level course\n",
    "that is delivered through the internet,\n",
    "typically at no cost at all to the learner.\n",
    "Just to briefly show you what one of these\n",
    "courses look like, we can see this\n",
    "philosophy course, Think 101,\n",
    "that I took last year.\n",
    "It contains videos, similar to in-class lectures;\n",
    "quizes, similar to in-class quizes and assignments,\n",
    "only graded automatically;\n",
    "as well as many ways to track your progress\n",
    "and communicate with the instructors and fellow students."
   ]
  },
  {
   "cell_type": "markdown",
   "metadata": {
    "slideshow": {
     "slide_type": "slide"
    }
   },
   "source": [
    "## The rise of MOOCs"
   ]
  },
  {
   "cell_type": "markdown",
   "metadata": {
    "slideshow": {
     "slide_type": "fragment"
    }
   },
   "source": [
    "> Higher education is now being disrupted; our MP3 is the massive open online course\n",
    "> (or MOOC), and our Napster is Udacity, the education startup.\n",
    ">\n",
    "> — [Shirkey](http://www.shirky.com/weblog/2012/11/napster-udacity-and-the-academy/), 2012"
   ]
  },
  {
   "cell_type": "markdown",
   "metadata": {
    "slideshow": {
     "slide_type": "slide"
    }
   },
   "source": [
    "## The fall of MOOCs"
   ]
  },
  {
   "cell_type": "markdown",
   "metadata": {
    "slideshow": {
     "slide_type": "fragment"
    }
   },
   "source": [
    "> Compared to formal learning, there tends to be much higher rates of drop-out,\n",
    "> and steeply unequal patterns of participation.\n",
    "> This is probably an almost-inevitable consequence of any open, online activity. [...]\n",
    "> The phenomenon shows that MOOCs alone cannot replace\n",
    "> degrees or most other formal qualifications.\n",
    ">\n",
    "> — Clow, 2013"
   ]
  },
  {
   "cell_type": "markdown",
   "metadata": {
    "slideshow": {
     "slide_type": "notes"
    }
   },
   "source": [
    "For a bit of historical context,\n",
    "MOOCs are a very recent development.\n",
    "They evolved from traditional distance education\n",
    "and learning management systems like Moodle.\n",
    "But they're really a very different entity.\n",
    "The first MOOCs started rolling out in around 2008,\n",
    "and they were heralded as a transformative,\n",
    "disruptive technology.\n",
    "*Quotes*\n",
    "\n",
    "But, since about 2014, the MOOC hype died down significantly,\n",
    "and people are much more metered and reserved in their\n",
    "view on MOOCs. I wouldn't say that anything has really\n",
    "changed in this time period, it's primarily the\n",
    "perception of MOOCs that have changed.\n",
    "*Quotes*"
   ]
  },
  {
   "cell_type": "markdown",
   "metadata": {
    "slideshow": {
     "slide_type": "slide"
    }
   },
   "source": [
    "# Questions\n",
    "\n",
    "<ol>\n",
    "<li class=\"fragment\">What completion rates should we expect?</li>\n",
    "<li class=\"fragment\">Can we raise MOOC completion rates?</li>\n",
    "<li class=\"fragment\">Can we raise traditional completion rates?</li>\n",
    "</ol>"
   ]
  },
  {
   "cell_type": "markdown",
   "metadata": {
    "slideshow": {
     "slide_type": "notes"
    }
   },
   "source": [
    "I'm going to address three questions with\n",
    "studies using quantitative research methods.\n",
    "My secondary goal in this presentation is to convince you\n",
    "that MOOCs give us an unprecedented ability to do\n",
    "large-scale quantitative education research."
   ]
  },
  {
   "cell_type": "markdown",
   "metadata": {
    "slideshow": {
     "slide_type": "slide"
    }
   },
   "source": [
    "### Q1. What completion rates should we expect?"
   ]
  },
  {
   "cell_type": "markdown",
   "metadata": {
    "slideshow": {
     "slide_type": "fragment"
    }
   },
   "source": [
    "### A: Most people are sampling\n",
    "\n",
    "- Learner subpopulations in MOOCs.<br>Kizilcec, Piech & Schneider, 2013\n",
    "- Dataset: 94,000 student activity logs from 3 Coursera courses"
   ]
  },
  {
   "cell_type": "markdown",
   "metadata": {
    "slideshow": {
     "slide_type": "slide"
    }
   },
   "source": [
    "<img src=\"img/kizilcec-1.png\" width=\"100%\" class=\"center\">"
   ]
  },
  {
   "cell_type": "markdown",
   "metadata": {
    "slideshow": {
     "slide_type": "fragment"
    }
   },
   "source": [
    "<p class=\"center\">Example trajectory: $[T, T, T, T, T, B, A, A, A]$</p>"
   ]
  },
  {
   "cell_type": "markdown",
   "metadata": {
    "slideshow": {
     "slide_type": "slide"
    }
   },
   "source": [
    "<img src=\"img/kizilcec-2.svg\" width=\"80%\" class=\"center\">"
   ]
  },
  {
   "cell_type": "markdown",
   "metadata": {
    "slideshow": {
     "slide_type": "subslide"
    }
   },
   "source": [
    "<img src=\"img/kizilcec-3.svg\" width=\"80%\" class=\"center\">"
   ]
  },
  {
   "cell_type": "markdown",
   "metadata": {
    "slideshow": {
     "slide_type": "slide"
    }
   },
   "source": [
    "### Q2. How do we raise MOOC completion rates?"
   ]
  },
  {
   "cell_type": "markdown",
   "metadata": {
    "slideshow": {
     "slide_type": "slide"
    }
   },
   "source": [
    "### A1. Students watch short, well-produced videos\n",
    "\n",
    "- How Video Production Affects Student Engagement:\n",
    "  An Empirical Study of MOOC Videos. Guo, Kim & Rubin, 2014\n",
    "- Dataset: 6.9 million viewing sessions from 4 edX courses"
   ]
  },
  {
   "cell_type": "markdown",
   "metadata": {
    "slideshow": {
     "slide_type": "slide"
    }
   },
   "source": [
    "<img src=\"img/guo-1.png\" width=\"100%\" class=\"center\">"
   ]
  },
  {
   "cell_type": "markdown",
   "metadata": {
    "slideshow": {
     "slide_type": "subslide"
    }
   },
   "source": [
    "<img src=\"img/guo-2a.png\" width=\"49%\" class=\"inline\">\n",
    "<img src=\"img/guo-2b.png\" width=\"49%\" class=\"inline\">"
   ]
  },
  {
   "cell_type": "markdown",
   "metadata": {
    "slideshow": {
     "slide_type": "subslide"
    }
   },
   "source": [
    "<img src=\"img/guo-3.png\" width=\"90%\" class=\"center\">"
   ]
  },
  {
   "cell_type": "markdown",
   "metadata": {
    "slideshow": {
     "slide_type": "subslide"
    }
   },
   "source": [
    "<img src=\"img/guo-4.png\" width=\"90%\" class=\"center\">"
   ]
  },
  {
   "cell_type": "markdown",
   "metadata": {
    "slideshow": {
     "slide_type": "slide"
    }
   },
   "source": [
    "### A2: Superposters foster healthy forums\n",
    "\n",
    "- Superposter behavior in MOOC forums.<br>\n",
    "  Huang, Dasgupta, Ghosh, Manning & Sanders, 2014\n",
    "- Dataset: 325,000 posts from 44 Coursera courses"
   ]
  },
  {
   "cell_type": "markdown",
   "metadata": {
    "slideshow": {
     "slide_type": "slide"
    }
   },
   "source": [
    "<img src=\"img/huang-2a.svg\" width=\"100%\" class=\"center\">"
   ]
  },
  {
   "cell_type": "markdown",
   "metadata": {
    "slideshow": {
     "slide_type": "fragment"
    }
   },
   "source": [
    "<img src=\"img/huang-2b.svg\" width=\"100%\" class=\"center\">"
   ]
  },
  {
   "cell_type": "markdown",
   "metadata": {
    "slideshow": {
     "slide_type": "subslide"
    }
   },
   "source": [
    "<img src=\"img/huang-1.svg\" width=\"100%\" class=\"center\">"
   ]
  },
  {
   "cell_type": "markdown",
   "metadata": {
    "slideshow": {
     "slide_type": "slide"
    }
   },
   "source": [
    "### Q3. Can we raise traditional completion rates?\n",
    "\n",
    "<ol>\n",
    "<li class=\"fragment\">Are all in-class students \"completing\"?</li>\n",
    "<li class=\"fragment\">6-minute lectures before interactive classes.</li>\n",
    "<li class=\"fragment\">Provide an ignorable outlet for \"superposters\".</li>\n",
    "</ol>"
   ]
  },
  {
   "cell_type": "markdown",
   "metadata": {
    "slideshow": {
     "slide_type": "slide"
    }
   },
   "source": [
    "# Recommendations"
   ]
  },
  {
   "cell_type": "markdown",
   "metadata": {
    "slideshow": {
     "slide_type": "slide"
    }
   },
   "source": [
    "## Teach data literacy<br>to education researchers"
   ]
  },
  {
   "cell_type": "markdown",
   "metadata": {
    "slideshow": {
     "slide_type": "subslide"
    }
   },
   "source": [
    "> It was surprising to see a low number of proposals that had planned to make use of the \n",
    "> techniques and methods of learning analytic and educational data mining (LA/EDM).\n",
    ">\n",
    "> [...] Our results indicate that the MRI review panel expressed a strong preference\n",
    "> towards the use of the LA/EDM methods.\n",
    ">\n",
    "> — Gašević, Kovanović, Joksimović & Siemens, 2014"
   ]
  },
  {
   "cell_type": "markdown",
   "metadata": {
    "slideshow": {
     "slide_type": "slide"
    }
   },
   "source": [
    "## Discuss the ethics<br>of huge data collection"
   ]
  },
  {
   "cell_type": "markdown",
   "metadata": {
    "slideshow": {
     "slide_type": "subslide"
    }
   },
   "source": [
    "> Enrolled learners in a MOOC are potentially all over the world\n",
    "> and therefore are likely to have different cultural and personal\n",
    "> sensitiveness about privacy issues.\n",
    "> [...] Learners might feel violated if they saw their posts\n",
    "> de-contextualized and highlighted in a publication.\n",
    ">\n",
    "> — Esposito, 2012"
   ]
  },
  {
   "cell_type": "markdown",
   "metadata": {
    "slideshow": {
     "slide_type": "slide"
    }
   },
   "source": [
    "## Follow up<br>with qualitative studies"
   ]
  },
  {
   "cell_type": "markdown",
   "metadata": {
    "slideshow": {
     "slide_type": "subslide"
    }
   },
   "source": [
    "> It does not require trillions of event logs to demonstrate\n",
    "> that effort is correlated with achievement. [...]\n",
    "> The next generation of MOOC research needs to adopt a wider\n",
    "> range of research designs with greater attention to causal\n",
    "> factors promoting student learning.\n",
    ">\n",
    "> — Reich, 2015"
   ]
  },
  {
   "cell_type": "markdown",
   "metadata": {
    "slideshow": {
     "slide_type": "slide"
    }
   },
   "source": [
    "### Takeaways\n",
    "\n",
    "1. Are all in-class students \"completing\"?\n",
    "1. 6-minute lectures before interactive classes.\n",
    "1. Provide an ignorable outlet for \"superposters\".\n",
    "\n",
    "### Recommendations\n",
    "\n",
    "1. Teach data literacy\n",
    "1. Discuss big data research ethics\n",
    "1. Follow up with qualitative studies"
   ]
  },
  {
   "cell_type": "markdown",
   "metadata": {
    "slideshow": {
     "slide_type": "notes"
    }
   },
   "source": [
    "I hope these studies have convinced you that\n",
    "the wealth of data that MOOC platforms make available\n",
    "to researchers enables us to learn ways to\n",
    "improve our teaching, both in and outside of the MOOC environment.\n",
    "\n",
    "I want to finish the presentation with what I think are\n",
    "the interesting implications of the rapid\n",
    "data-driven advancement in education research,\n",
    "and these are things that we can talk about in\n",
    "the discussion period.\n",
    "\n",
    "First, as more data-driven education research\n",
    "is done, education researchers will need to become\n",
    "more data literate in order to review\n",
    "new literature and assimilate it into their\n",
    "own pedagogical ideas.\n",
    "While researching this topic, I found several\n",
    "papers that were using poor statistics,\n",
    "or very strange interpretations of the statistical tools.\n",
    "The fact that these papers passed the peer review process\n",
    "is evidence that we need ways in which to educate\n",
    "education researchers about data.\n",
    "There are some initiatives attempting to do so,\n",
    "such as Software Carpentry and its sister projects\n",
    "Data Carpentry, and Library Carpentry.\n",
    "\n",
    "Second, we need some clear ethical guidelines\n",
    "as to how much data we can collect on students\n",
    "without their explicit written consent.\n",
    "While we can skirt some of these issues with\n",
    "anonymized user data, sometimes it becomes necessary\n",
    "to actually identify certain users\n",
    "to have a real conversation with them about\n",
    "their experiences in a course.\n",
    "\n",
    "This leads to my third and final thought,\n",
    "which is that we should be careful not to\n",
    "claim that data-driven research will replace\n",
    "other kinds of research.\n",
    "Data science is just one tool;\n",
    "it can help us generate new research questions\n",
    "to investigate, but in order to answer\n",
    "those research questions,\n",
    "we need to use our whole aresenal of research tools;\n",
    "live interviews, studies with control groups,\n",
    "and so on.\n",
    "\n",
    "With that, I'll thank you all for listening,\n",
    "and look forward to talking with you about\n",
    "these ideas!"
   ]
  }
 ],
 "metadata": {
  "celltoolbar": "Slideshow",
  "kernelspec": {
   "display_name": "Python 2",
   "language": "python",
   "name": "python2"
  },
  "language_info": {
   "codemirror_mode": {
    "name": "ipython",
    "version": 2
   },
   "file_extension": ".py",
   "mimetype": "text/x-python",
   "name": "python",
   "nbconvert_exporter": "python",
   "pygments_lexer": "ipython2",
   "version": "2.7.10"
  }
 },
 "nbformat": 4,
 "nbformat_minor": 0
}
